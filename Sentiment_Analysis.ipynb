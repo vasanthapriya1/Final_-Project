{
 "cells": [
  {
   "cell_type": "code",
   "execution_count": 23,
   "id": "762f9ac1",
   "metadata": {},
   "outputs": [],
   "source": [
    "#Importing\n",
    "\n",
    "import pandas as pd\n",
    "import numpy as np"
   ]
  },
  {
   "cell_type": "code",
   "execution_count": 24,
   "id": "8f5f183d",
   "metadata": {},
   "outputs": [],
   "source": [
    "# Reading the dataset\n",
    "\n",
    "df = pd.read_csv(\"healthcare_reviews.csv\")"
   ]
  },
  {
   "cell_type": "code",
   "execution_count": 25,
   "id": "a0598018",
   "metadata": {},
   "outputs": [
    {
     "data": {
      "text/html": [
       "<div>\n",
       "<style scoped>\n",
       "    .dataframe tbody tr th:only-of-type {\n",
       "        vertical-align: middle;\n",
       "    }\n",
       "\n",
       "    .dataframe tbody tr th {\n",
       "        vertical-align: top;\n",
       "    }\n",
       "\n",
       "    .dataframe thead th {\n",
       "        text-align: right;\n",
       "    }\n",
       "</style>\n",
       "<table border=\"1\" class=\"dataframe\">\n",
       "  <thead>\n",
       "    <tr style=\"text-align: right;\">\n",
       "      <th></th>\n",
       "      <th>Review_Text</th>\n",
       "      <th>Rating</th>\n",
       "    </tr>\n",
       "  </thead>\n",
       "  <tbody>\n",
       "    <tr>\n",
       "      <th>0</th>\n",
       "      <td>I have mixed feelings about my experience.</td>\n",
       "      <td>4</td>\n",
       "    </tr>\n",
       "    <tr>\n",
       "      <th>1</th>\n",
       "      <td>The staff was caring and attentive. I couldn't...</td>\n",
       "      <td>5</td>\n",
       "    </tr>\n",
       "    <tr>\n",
       "      <th>2</th>\n",
       "      <td>I have mixed feelings about my experience.</td>\n",
       "      <td>5</td>\n",
       "    </tr>\n",
       "    <tr>\n",
       "      <th>3</th>\n",
       "      <td>I have mixed feelings about my experience.</td>\n",
       "      <td>5</td>\n",
       "    </tr>\n",
       "    <tr>\n",
       "      <th>4</th>\n",
       "      <td>The healthcare provider was excellent. I had a...</td>\n",
       "      <td>3</td>\n",
       "    </tr>\n",
       "    <tr>\n",
       "      <th>...</th>\n",
       "      <td>...</td>\n",
       "      <td>...</td>\n",
       "    </tr>\n",
       "    <tr>\n",
       "      <th>995</th>\n",
       "      <td>My experience was terrible. I would not recomm...</td>\n",
       "      <td>5</td>\n",
       "    </tr>\n",
       "    <tr>\n",
       "      <th>996</th>\n",
       "      <td>The service was disappointing. I won't be comi...</td>\n",
       "      <td>4</td>\n",
       "    </tr>\n",
       "    <tr>\n",
       "      <th>997</th>\n",
       "      <td>The service was okay, but nothing exceptional.</td>\n",
       "      <td>3</td>\n",
       "    </tr>\n",
       "    <tr>\n",
       "      <th>998</th>\n",
       "      <td>I have mixed feelings about my experience.</td>\n",
       "      <td>5</td>\n",
       "    </tr>\n",
       "    <tr>\n",
       "      <th>999</th>\n",
       "      <td>The staff was caring and attentive. I couldn't...</td>\n",
       "      <td>4</td>\n",
       "    </tr>\n",
       "  </tbody>\n",
       "</table>\n",
       "<p>1000 rows × 2 columns</p>\n",
       "</div>"
      ],
      "text/plain": [
       "                                           Review_Text  Rating\n",
       "0          I have mixed feelings about my experience.        4\n",
       "1    The staff was caring and attentive. I couldn't...       5\n",
       "2          I have mixed feelings about my experience.        5\n",
       "3          I have mixed feelings about my experience.        5\n",
       "4    The healthcare provider was excellent. I had a...       3\n",
       "..                                                 ...     ...\n",
       "995  My experience was terrible. I would not recomm...       5\n",
       "996  The service was disappointing. I won't be comi...       4\n",
       "997    The service was okay, but nothing exceptional.        3\n",
       "998        I have mixed feelings about my experience.        5\n",
       "999  The staff was caring and attentive. I couldn't...       4\n",
       "\n",
       "[1000 rows x 2 columns]"
      ]
     },
     "execution_count": 25,
     "metadata": {},
     "output_type": "execute_result"
    }
   ],
   "source": [
    "df"
   ]
  },
  {
   "cell_type": "code",
   "execution_count": 26,
   "id": "db20f96d",
   "metadata": {},
   "outputs": [
    {
     "data": {
      "text/plain": [
       "(1000, 2)"
      ]
     },
     "execution_count": 26,
     "metadata": {},
     "output_type": "execute_result"
    }
   ],
   "source": [
    "df.shape"
   ]
  },
  {
   "cell_type": "code",
   "execution_count": 27,
   "id": "fda2f3af",
   "metadata": {},
   "outputs": [
    {
     "name": "stdout",
     "output_type": "stream",
     "text": [
      "<class 'pandas.core.frame.DataFrame'>\n",
      "RangeIndex: 1000 entries, 0 to 999\n",
      "Data columns (total 2 columns):\n",
      " #   Column       Non-Null Count  Dtype \n",
      "---  ------       --------------  ----- \n",
      " 0   Review_Text  900 non-null    object\n",
      " 1   Rating       1000 non-null   int64 \n",
      "dtypes: int64(1), object(1)\n",
      "memory usage: 15.8+ KB\n"
     ]
    }
   ],
   "source": [
    "df.info()"
   ]
  },
  {
   "cell_type": "code",
   "execution_count": 28,
   "id": "b5d79f0b",
   "metadata": {
    "scrolled": true
   },
   "outputs": [
    {
     "data": {
      "text/html": [
       "<div>\n",
       "<style scoped>\n",
       "    .dataframe tbody tr th:only-of-type {\n",
       "        vertical-align: middle;\n",
       "    }\n",
       "\n",
       "    .dataframe tbody tr th {\n",
       "        vertical-align: top;\n",
       "    }\n",
       "\n",
       "    .dataframe thead th {\n",
       "        text-align: right;\n",
       "    }\n",
       "</style>\n",
       "<table border=\"1\" class=\"dataframe\">\n",
       "  <thead>\n",
       "    <tr style=\"text-align: right;\">\n",
       "      <th></th>\n",
       "      <th>Rating</th>\n",
       "    </tr>\n",
       "  </thead>\n",
       "  <tbody>\n",
       "    <tr>\n",
       "      <th>count</th>\n",
       "      <td>1000.000000</td>\n",
       "    </tr>\n",
       "    <tr>\n",
       "      <th>mean</th>\n",
       "      <td>3.058000</td>\n",
       "    </tr>\n",
       "    <tr>\n",
       "      <th>std</th>\n",
       "      <td>1.425015</td>\n",
       "    </tr>\n",
       "    <tr>\n",
       "      <th>min</th>\n",
       "      <td>1.000000</td>\n",
       "    </tr>\n",
       "    <tr>\n",
       "      <th>25%</th>\n",
       "      <td>2.000000</td>\n",
       "    </tr>\n",
       "    <tr>\n",
       "      <th>50%</th>\n",
       "      <td>3.000000</td>\n",
       "    </tr>\n",
       "    <tr>\n",
       "      <th>75%</th>\n",
       "      <td>4.000000</td>\n",
       "    </tr>\n",
       "    <tr>\n",
       "      <th>max</th>\n",
       "      <td>5.000000</td>\n",
       "    </tr>\n",
       "  </tbody>\n",
       "</table>\n",
       "</div>"
      ],
      "text/plain": [
       "            Rating\n",
       "count  1000.000000\n",
       "mean      3.058000\n",
       "std       1.425015\n",
       "min       1.000000\n",
       "25%       2.000000\n",
       "50%       3.000000\n",
       "75%       4.000000\n",
       "max       5.000000"
      ]
     },
     "execution_count": 28,
     "metadata": {},
     "output_type": "execute_result"
    }
   ],
   "source": [
    "df.describe()"
   ]
  },
  {
   "cell_type": "code",
   "execution_count": 29,
   "id": "d33095fa",
   "metadata": {},
   "outputs": [
    {
     "name": "stdout",
     "output_type": "stream",
     "text": [
      "0      False\n",
      "1      False\n",
      "2      False\n",
      "3       True\n",
      "4      False\n",
      "       ...  \n",
      "995     True\n",
      "996     True\n",
      "997     True\n",
      "998     True\n",
      "999     True\n",
      "Length: 1000, dtype: bool\n"
     ]
    }
   ],
   "source": [
    "print(df.duplicated())"
   ]
  },
  {
   "cell_type": "markdown",
   "id": "fd026ae2",
   "metadata": {},
   "source": [
    "## Data Pre-Processing"
   ]
  },
  {
   "cell_type": "code",
   "execution_count": 30,
   "id": "9c8262df",
   "metadata": {},
   "outputs": [
    {
     "data": {
      "text/plain": [
       "Review_Text    100\n",
       "Rating           0\n",
       "dtype: int64"
      ]
     },
     "execution_count": 30,
     "metadata": {},
     "output_type": "execute_result"
    }
   ],
   "source": [
    "#check for null values \n",
    "\n",
    "df.isnull().sum()"
   ]
  },
  {
   "cell_type": "code",
   "execution_count": 9,
   "id": "a76f2f9c",
   "metadata": {},
   "outputs": [],
   "source": [
    "#Identified 100 null values in given dataset \n",
    "\n",
    "#replacing null values with text 'no review available'\n",
    "\n",
    "df['Review_Text'] = df['Review_Text'].fillna('No review available')"
   ]
  },
  {
   "cell_type": "code",
   "execution_count": 10,
   "id": "043647f3",
   "metadata": {},
   "outputs": [
    {
     "data": {
      "text/plain": [
       "Review_Text    0\n",
       "Rating         0\n",
       "dtype: int64"
      ]
     },
     "execution_count": 10,
     "metadata": {},
     "output_type": "execute_result"
    }
   ],
   "source": [
    "# After replacing checking the null values\n",
    "\n",
    "df.isnull().sum()"
   ]
  },
  {
   "cell_type": "markdown",
   "id": "c4096ff7",
   "metadata": {},
   "source": [
    " Text preprocessing "
   ]
  },
  {
   "cell_type": "code",
   "execution_count": 11,
   "id": "b85d3c3b",
   "metadata": {
    "scrolled": true
   },
   "outputs": [
    {
     "data": {
      "text/plain": [
       "0            i have mixed feelings about my experience. \n",
       "1      the staff was caring and attentive. i couldn't...\n",
       "2            i have mixed feelings about my experience. \n",
       "3            i have mixed feelings about my experience. \n",
       "4      the healthcare provider was excellent. i had a...\n",
       "                             ...                        \n",
       "995    my experience was terrible. i would not recomm...\n",
       "996    the service was disappointing. i won't be comi...\n",
       "997      the service was okay, but nothing exceptional. \n",
       "998          i have mixed feelings about my experience. \n",
       "999    the staff was caring and attentive. i couldn't...\n",
       "Name: Review_Text, Length: 1000, dtype: object"
      ]
     },
     "execution_count": 11,
     "metadata": {},
     "output_type": "execute_result"
    }
   ],
   "source": [
    "# Converting review text to lowercase\n",
    "\n",
    "df['Review_Text'] = df['Review_Text'].str.lower()\n",
    "df['Review_Text']"
   ]
  },
  {
   "cell_type": "code",
   "execution_count": 12,
   "id": "39beee77",
   "metadata": {},
   "outputs": [
    {
     "data": {
      "text/plain": [
       "0             i have mixed feelings about my experience \n",
       "1      the staff was caring and attentive i couldnt b...\n",
       "2             i have mixed feelings about my experience \n",
       "3             i have mixed feelings about my experience \n",
       "4      the healthcare provider was excellent i had a ...\n",
       "                             ...                        \n",
       "995    my experience was terrible i would not recomme...\n",
       "996    the service was disappointing i wont be coming...\n",
       "997        the service was okay but nothing exceptional \n",
       "998           i have mixed feelings about my experience \n",
       "999    the staff was caring and attentive i couldnt b...\n",
       "Name: Review_Text, Length: 1000, dtype: object"
      ]
     },
     "execution_count": 12,
     "metadata": {},
     "output_type": "execute_result"
    }
   ],
   "source": [
    "# Removing special characters, punctuations and numbers\n",
    "\n",
    "import re\n",
    "\n",
    "df['Review_Text'] = df['Review_Text'].apply(lambda x: re.sub('[^A-Za-z\\s]', '', x))\n",
    "df['Review_Text']"
   ]
  },
  {
   "cell_type": "code",
   "execution_count": 13,
   "id": "c713d93d",
   "metadata": {
    "scrolled": true
   },
   "outputs": [
    {
     "data": {
      "text/plain": [
       "0      [i, have, mixed, feelings, about, my, experience]\n",
       "1      [the, staff, was, caring, and, attentive, i, c...\n",
       "2      [i, have, mixed, feelings, about, my, experience]\n",
       "3      [i, have, mixed, feelings, about, my, experience]\n",
       "4      [the, healthcare, provider, was, excellent, i,...\n",
       "                             ...                        \n",
       "995    [my, experience, was, terrible, i, would, not,...\n",
       "996    [the, service, was, disappointing, i, wont, be...\n",
       "997    [the, service, was, okay, but, nothing, except...\n",
       "998    [i, have, mixed, feelings, about, my, experience]\n",
       "999    [the, staff, was, caring, and, attentive, i, c...\n",
       "Name: Review_Text, Length: 1000, dtype: object"
      ]
     },
     "execution_count": 13,
     "metadata": {},
     "output_type": "execute_result"
    }
   ],
   "source": [
    "#Tokenization \n",
    "\n",
    "import nltk\n",
    "# nltk.download('punkt')\n",
    "from nltk.tokenize import word_tokenize\n",
    "\n",
    "# Assuming df['Review_Text'] contains lists and convert them to strings\n",
    "\n",
    "df['Review_Text'] = df['Review_Text'].apply(lambda x: ' '.join(x) if isinstance(x, list) else x)\n",
    "\n",
    "# apply for word_tokenize\n",
    "\n",
    "df['Review_Text'] = df['Review_Text'].apply(word_tokenize)\n",
    "df['Review_Text'] \n"
   ]
  },
  {
   "cell_type": "code",
   "execution_count": 14,
   "id": "bb9f3e4e",
   "metadata": {},
   "outputs": [
    {
     "data": {
      "text/plain": [
       "0                        [mixed, feelings, experience]\n",
       "1         [staff, caring, attentive, couldnt, happier]\n",
       "2                        [mixed, feelings, experience]\n",
       "3                        [mixed, feelings, experience]\n",
       "4    [healthcare, provider, excellent, great, exper...\n",
       "Name: Review_Text, dtype: object"
      ]
     },
     "execution_count": 14,
     "metadata": {},
     "output_type": "execute_result"
    }
   ],
   "source": [
    "#stop words removal\n",
    "\n",
    "from nltk.corpus import stopwords\n",
    "\n",
    "stop_words = set(stopwords.words(\"english\"))\n",
    "df['Review_Text'] = df['Review_Text'].apply(lambda x: [word for word in x if word not in stop_words])\n",
    "df['Review_Text'].head()"
   ]
  },
  {
   "cell_type": "code",
   "execution_count": 15,
   "id": "e3cce7e0",
   "metadata": {},
   "outputs": [
    {
     "name": "stdout",
     "output_type": "stream",
     "text": [
      "0                         [mixed, feeling, experience]\n",
      "1         [staff, caring, attentive, couldnt, happier]\n",
      "2                         [mixed, feeling, experience]\n",
      "3                         [mixed, feeling, experience]\n",
      "4    [healthcare, provider, excellent, great, exper...\n",
      "Name: Review_Text_lemma, dtype: object\n"
     ]
    }
   ],
   "source": [
    "#Lemmatization\n",
    "\n",
    "#nltk.download('wordnet')\n",
    "\n",
    "from nltk.stem import WordNetLemmatizer\n",
    "\n",
    "lemmatizer = WordNetLemmatizer()\n",
    "df['Review_Text_lemma'] = df['Review_Text'].apply(lambda x: [lemmatizer.lemmatize(word) for word in x])\n",
    "print(df['Review_Text_lemma'].head())"
   ]
  },
  {
   "cell_type": "code",
   "execution_count": 16,
   "id": "4a5831c1",
   "metadata": {},
   "outputs": [
    {
     "name": "stdout",
     "output_type": "stream",
     "text": [
      "0                          [mix, feel, experi]\n",
      "1      [staff, care, attent, couldnt, happier]\n",
      "2                          [mix, feel, experi]\n",
      "3                          [mix, feel, experi]\n",
      "4    [healthcar, provid, excel, great, experi]\n",
      "Name: Review_Text_stem, dtype: object\n"
     ]
    }
   ],
   "source": [
    "#Stemming\n",
    "\n",
    "from nltk.stem import PorterStemmer\n",
    "\n",
    "ps = PorterStemmer()\n",
    "df['Review_Text_stem'] = df['Review_Text_lemma'].apply(lambda x: [ps.stem(word) for word in x])\n",
    "print(df['Review_Text_stem'].head())"
   ]
  },
  {
   "cell_type": "code",
   "execution_count": 17,
   "id": "b126b0db",
   "metadata": {},
   "outputs": [
    {
     "data": {
      "text/html": [
       "<div>\n",
       "<style scoped>\n",
       "    .dataframe tbody tr th:only-of-type {\n",
       "        vertical-align: middle;\n",
       "    }\n",
       "\n",
       "    .dataframe tbody tr th {\n",
       "        vertical-align: top;\n",
       "    }\n",
       "\n",
       "    .dataframe thead th {\n",
       "        text-align: right;\n",
       "    }\n",
       "</style>\n",
       "<table border=\"1\" class=\"dataframe\">\n",
       "  <thead>\n",
       "    <tr style=\"text-align: right;\">\n",
       "      <th></th>\n",
       "      <th>Review_Text</th>\n",
       "      <th>Rating</th>\n",
       "      <th>Review_Text_lemma</th>\n",
       "      <th>Review_Text_stem</th>\n",
       "    </tr>\n",
       "  </thead>\n",
       "  <tbody>\n",
       "    <tr>\n",
       "      <th>0</th>\n",
       "      <td>[mixed, feelings, experience]</td>\n",
       "      <td>4</td>\n",
       "      <td>[mixed, feeling, experience]</td>\n",
       "      <td>[mix, feel, experi]</td>\n",
       "    </tr>\n",
       "    <tr>\n",
       "      <th>1</th>\n",
       "      <td>[staff, caring, attentive, couldnt, happier]</td>\n",
       "      <td>5</td>\n",
       "      <td>[staff, caring, attentive, couldnt, happier]</td>\n",
       "      <td>[staff, care, attent, couldnt, happier]</td>\n",
       "    </tr>\n",
       "    <tr>\n",
       "      <th>2</th>\n",
       "      <td>[mixed, feelings, experience]</td>\n",
       "      <td>5</td>\n",
       "      <td>[mixed, feeling, experience]</td>\n",
       "      <td>[mix, feel, experi]</td>\n",
       "    </tr>\n",
       "    <tr>\n",
       "      <th>3</th>\n",
       "      <td>[mixed, feelings, experience]</td>\n",
       "      <td>5</td>\n",
       "      <td>[mixed, feeling, experience]</td>\n",
       "      <td>[mix, feel, experi]</td>\n",
       "    </tr>\n",
       "    <tr>\n",
       "      <th>4</th>\n",
       "      <td>[healthcare, provider, excellent, great, exper...</td>\n",
       "      <td>3</td>\n",
       "      <td>[healthcare, provider, excellent, great, exper...</td>\n",
       "      <td>[healthcar, provid, excel, great, experi]</td>\n",
       "    </tr>\n",
       "  </tbody>\n",
       "</table>\n",
       "</div>"
      ],
      "text/plain": [
       "                                         Review_Text  Rating  \\\n",
       "0                      [mixed, feelings, experience]       4   \n",
       "1       [staff, caring, attentive, couldnt, happier]       5   \n",
       "2                      [mixed, feelings, experience]       5   \n",
       "3                      [mixed, feelings, experience]       5   \n",
       "4  [healthcare, provider, excellent, great, exper...       3   \n",
       "\n",
       "                                   Review_Text_lemma  \\\n",
       "0                       [mixed, feeling, experience]   \n",
       "1       [staff, caring, attentive, couldnt, happier]   \n",
       "2                       [mixed, feeling, experience]   \n",
       "3                       [mixed, feeling, experience]   \n",
       "4  [healthcare, provider, excellent, great, exper...   \n",
       "\n",
       "                            Review_Text_stem  \n",
       "0                        [mix, feel, experi]  \n",
       "1    [staff, care, attent, couldnt, happier]  \n",
       "2                        [mix, feel, experi]  \n",
       "3                        [mix, feel, experi]  \n",
       "4  [healthcar, provid, excel, great, experi]  "
      ]
     },
     "execution_count": 17,
     "metadata": {},
     "output_type": "execute_result"
    }
   ],
   "source": [
    "df.head()"
   ]
  },
  {
   "cell_type": "code",
   "execution_count": 18,
   "id": "f8c39d7e",
   "metadata": {},
   "outputs": [
    {
     "data": {
      "text/plain": [
       "0       [(mixed, JJ), (feelings, NNS), (experience, NN)]\n",
       "1      [(staff, NN), (caring, VBG), (attentive, JJ), ...\n",
       "2       [(mixed, JJ), (feelings, NNS), (experience, NN)]\n",
       "3       [(mixed, JJ), (feelings, NNS), (experience, NN)]\n",
       "4      [(healthcare, NN), (provider, NN), (excellent,...\n",
       "                             ...                        \n",
       "995    [(experience, NN), (terrible, NN), (would, MD)...\n",
       "996    [(service, NN), (disappointing, VBG), (wont, N...\n",
       "997    [(service, NN), (okay, MD), (nothing, NN), (ex...\n",
       "998     [(mixed, JJ), (feelings, NNS), (experience, NN)]\n",
       "999    [(staff, NN), (caring, VBG), (attentive, JJ), ...\n",
       "Name: Review_Text_postag, Length: 1000, dtype: object"
      ]
     },
     "execution_count": 18,
     "metadata": {},
     "output_type": "execute_result"
    }
   ],
   "source": [
    "#pos-tagging\n",
    "\n",
    "# nltk.download('averaged_perceptron_tagger')\n",
    "\n",
    "from nltk import pos_tag\n",
    "\n",
    "df['Review_Text_postag'] = df['Review_Text'].apply(nltk.pos_tag)\n",
    "df['Review_Text_postag']"
   ]
  },
  {
   "cell_type": "code",
   "execution_count": 19,
   "id": "d3bf02e7",
   "metadata": {},
   "outputs": [
    {
     "data": {
      "text/plain": [
       "0     0.000000\n",
       "1     0.400000\n",
       "2     0.000000\n",
       "3     0.000000\n",
       "4     0.900000\n",
       "5     0.400000\n",
       "6     0.400000\n",
       "7    -0.350000\n",
       "8     0.000000\n",
       "9     0.000000\n",
       "10    0.583333\n",
       "11    0.583333\n",
       "12    0.900000\n",
       "13    0.583333\n",
       "14   -0.350000\n",
       "15    0.400000\n",
       "16   -0.350000\n",
       "17   -1.000000\n",
       "18   -0.350000\n",
       "19   -0.300000\n",
       "20    0.400000\n",
       "21    0.330000\n",
       "22   -0.300000\n",
       "23   -1.000000\n",
       "24    0.900000\n",
       "Name: Sentiment_Polarity, dtype: float64"
      ]
     },
     "execution_count": 19,
     "metadata": {},
     "output_type": "execute_result"
    }
   ],
   "source": [
    "#Assigning Polarity \n",
    "\n",
    "# Applying polarity to column 'Review_Text_lemma' for positive , negative , netural review \n",
    "\n",
    "from textblob import TextBlob\n",
    "\n",
    "\n",
    "df['Sentiment_Polarity'] = df['Review_Text_lemma'].apply(lambda x: TextBlob(' '.join(x)).sentiment.polarity)\n",
    "df['Sentiment_Polarity'].head(25)"
   ]
  },
  {
   "cell_type": "code",
   "execution_count": 20,
   "id": "75632d12",
   "metadata": {},
   "outputs": [
    {
     "data": {
      "text/plain": [
       "0     0\n",
       "1     1\n",
       "2     0\n",
       "3     0\n",
       "4     1\n",
       "5     1\n",
       "6     1\n",
       "7    -1\n",
       "8     0\n",
       "9     0\n",
       "10    1\n",
       "11    1\n",
       "12    1\n",
       "13    1\n",
       "14   -1\n",
       "15    1\n",
       "16   -1\n",
       "17   -1\n",
       "18   -1\n",
       "19   -1\n",
       "Name: Sentiment_Category, dtype: int64"
      ]
     },
     "execution_count": 20,
     "metadata": {},
     "output_type": "execute_result"
    }
   ],
   "source": [
    "# Categorize sentimental into positive, negative , neutral\n",
    "\n",
    "def categorize_sentiment(polarity):\n",
    "    if polarity > 0:\n",
    "        return 1\n",
    "    elif polarity == 0:\n",
    "        return 0\n",
    "    else:\n",
    "        return -1\n",
    "\n",
    "# Applying the mapping function to create a new column 'Sentiment_Category'\n",
    "\n",
    "df['Sentiment_Category'] = df['Sentiment_Polarity'].apply(categorize_sentiment)\n",
    "df['Sentiment_Category'].head(20)"
   ]
  },
  {
   "cell_type": "code",
   "execution_count": 21,
   "id": "78a21c0d",
   "metadata": {},
   "outputs": [
    {
     "data": {
      "text/html": [
       "<div>\n",
       "<style scoped>\n",
       "    .dataframe tbody tr th:only-of-type {\n",
       "        vertical-align: middle;\n",
       "    }\n",
       "\n",
       "    .dataframe tbody tr th {\n",
       "        vertical-align: top;\n",
       "    }\n",
       "\n",
       "    .dataframe thead th {\n",
       "        text-align: right;\n",
       "    }\n",
       "</style>\n",
       "<table border=\"1\" class=\"dataframe\">\n",
       "  <thead>\n",
       "    <tr style=\"text-align: right;\">\n",
       "      <th></th>\n",
       "      <th>Review_Text</th>\n",
       "      <th>Rating</th>\n",
       "      <th>Review_Text_lemma</th>\n",
       "      <th>Review_Text_stem</th>\n",
       "      <th>Review_Text_postag</th>\n",
       "      <th>Sentiment_Polarity</th>\n",
       "      <th>Sentiment_Category</th>\n",
       "    </tr>\n",
       "  </thead>\n",
       "  <tbody>\n",
       "    <tr>\n",
       "      <th>0</th>\n",
       "      <td>[mixed, feelings, experience]</td>\n",
       "      <td>4</td>\n",
       "      <td>[mixed, feeling, experience]</td>\n",
       "      <td>[mix, feel, experi]</td>\n",
       "      <td>[(mixed, JJ), (feelings, NNS), (experience, NN)]</td>\n",
       "      <td>0.000000</td>\n",
       "      <td>0</td>\n",
       "    </tr>\n",
       "    <tr>\n",
       "      <th>1</th>\n",
       "      <td>[staff, caring, attentive, couldnt, happier]</td>\n",
       "      <td>5</td>\n",
       "      <td>[staff, caring, attentive, couldnt, happier]</td>\n",
       "      <td>[staff, care, attent, couldnt, happier]</td>\n",
       "      <td>[(staff, NN), (caring, VBG), (attentive, JJ), ...</td>\n",
       "      <td>0.400000</td>\n",
       "      <td>1</td>\n",
       "    </tr>\n",
       "    <tr>\n",
       "      <th>2</th>\n",
       "      <td>[mixed, feelings, experience]</td>\n",
       "      <td>5</td>\n",
       "      <td>[mixed, feeling, experience]</td>\n",
       "      <td>[mix, feel, experi]</td>\n",
       "      <td>[(mixed, JJ), (feelings, NNS), (experience, NN)]</td>\n",
       "      <td>0.000000</td>\n",
       "      <td>0</td>\n",
       "    </tr>\n",
       "    <tr>\n",
       "      <th>3</th>\n",
       "      <td>[mixed, feelings, experience]</td>\n",
       "      <td>5</td>\n",
       "      <td>[mixed, feeling, experience]</td>\n",
       "      <td>[mix, feel, experi]</td>\n",
       "      <td>[(mixed, JJ), (feelings, NNS), (experience, NN)]</td>\n",
       "      <td>0.000000</td>\n",
       "      <td>0</td>\n",
       "    </tr>\n",
       "    <tr>\n",
       "      <th>4</th>\n",
       "      <td>[healthcare, provider, excellent, great, exper...</td>\n",
       "      <td>3</td>\n",
       "      <td>[healthcare, provider, excellent, great, exper...</td>\n",
       "      <td>[healthcar, provid, excel, great, experi]</td>\n",
       "      <td>[(healthcare, NN), (provider, NN), (excellent,...</td>\n",
       "      <td>0.900000</td>\n",
       "      <td>1</td>\n",
       "    </tr>\n",
       "    <tr>\n",
       "      <th>...</th>\n",
       "      <td>...</td>\n",
       "      <td>...</td>\n",
       "      <td>...</td>\n",
       "      <td>...</td>\n",
       "      <td>...</td>\n",
       "      <td>...</td>\n",
       "      <td>...</td>\n",
       "    </tr>\n",
       "    <tr>\n",
       "      <th>995</th>\n",
       "      <td>[experience, terrible, would, recommend, provi...</td>\n",
       "      <td>5</td>\n",
       "      <td>[experience, terrible, would, recommend, provi...</td>\n",
       "      <td>[experi, terribl, would, recommend, provid]</td>\n",
       "      <td>[(experience, NN), (terrible, NN), (would, MD)...</td>\n",
       "      <td>-1.000000</td>\n",
       "      <td>-1</td>\n",
       "    </tr>\n",
       "    <tr>\n",
       "      <th>996</th>\n",
       "      <td>[service, disappointing, wont, coming, back]</td>\n",
       "      <td>4</td>\n",
       "      <td>[service, disappointing, wont, coming, back]</td>\n",
       "      <td>[servic, disappoint, wont, come, back]</td>\n",
       "      <td>[(service, NN), (disappointing, VBG), (wont, N...</td>\n",
       "      <td>-0.300000</td>\n",
       "      <td>-1</td>\n",
       "    </tr>\n",
       "    <tr>\n",
       "      <th>997</th>\n",
       "      <td>[service, okay, nothing, exceptional]</td>\n",
       "      <td>3</td>\n",
       "      <td>[service, okay, nothing, exceptional]</td>\n",
       "      <td>[servic, okay, noth, except]</td>\n",
       "      <td>[(service, NN), (okay, MD), (nothing, NN), (ex...</td>\n",
       "      <td>0.583333</td>\n",
       "      <td>1</td>\n",
       "    </tr>\n",
       "    <tr>\n",
       "      <th>998</th>\n",
       "      <td>[mixed, feelings, experience]</td>\n",
       "      <td>5</td>\n",
       "      <td>[mixed, feeling, experience]</td>\n",
       "      <td>[mix, feel, experi]</td>\n",
       "      <td>[(mixed, JJ), (feelings, NNS), (experience, NN)]</td>\n",
       "      <td>0.000000</td>\n",
       "      <td>0</td>\n",
       "    </tr>\n",
       "    <tr>\n",
       "      <th>999</th>\n",
       "      <td>[staff, caring, attentive, couldnt, happier]</td>\n",
       "      <td>4</td>\n",
       "      <td>[staff, caring, attentive, couldnt, happier]</td>\n",
       "      <td>[staff, care, attent, couldnt, happier]</td>\n",
       "      <td>[(staff, NN), (caring, VBG), (attentive, JJ), ...</td>\n",
       "      <td>0.400000</td>\n",
       "      <td>1</td>\n",
       "    </tr>\n",
       "  </tbody>\n",
       "</table>\n",
       "<p>1000 rows × 7 columns</p>\n",
       "</div>"
      ],
      "text/plain": [
       "                                           Review_Text  Rating  \\\n",
       "0                        [mixed, feelings, experience]       4   \n",
       "1         [staff, caring, attentive, couldnt, happier]       5   \n",
       "2                        [mixed, feelings, experience]       5   \n",
       "3                        [mixed, feelings, experience]       5   \n",
       "4    [healthcare, provider, excellent, great, exper...       3   \n",
       "..                                                 ...     ...   \n",
       "995  [experience, terrible, would, recommend, provi...       5   \n",
       "996       [service, disappointing, wont, coming, back]       4   \n",
       "997              [service, okay, nothing, exceptional]       3   \n",
       "998                      [mixed, feelings, experience]       5   \n",
       "999       [staff, caring, attentive, couldnt, happier]       4   \n",
       "\n",
       "                                     Review_Text_lemma  \\\n",
       "0                         [mixed, feeling, experience]   \n",
       "1         [staff, caring, attentive, couldnt, happier]   \n",
       "2                         [mixed, feeling, experience]   \n",
       "3                         [mixed, feeling, experience]   \n",
       "4    [healthcare, provider, excellent, great, exper...   \n",
       "..                                                 ...   \n",
       "995  [experience, terrible, would, recommend, provi...   \n",
       "996       [service, disappointing, wont, coming, back]   \n",
       "997              [service, okay, nothing, exceptional]   \n",
       "998                       [mixed, feeling, experience]   \n",
       "999       [staff, caring, attentive, couldnt, happier]   \n",
       "\n",
       "                                Review_Text_stem  \\\n",
       "0                            [mix, feel, experi]   \n",
       "1        [staff, care, attent, couldnt, happier]   \n",
       "2                            [mix, feel, experi]   \n",
       "3                            [mix, feel, experi]   \n",
       "4      [healthcar, provid, excel, great, experi]   \n",
       "..                                           ...   \n",
       "995  [experi, terribl, would, recommend, provid]   \n",
       "996       [servic, disappoint, wont, come, back]   \n",
       "997                 [servic, okay, noth, except]   \n",
       "998                          [mix, feel, experi]   \n",
       "999      [staff, care, attent, couldnt, happier]   \n",
       "\n",
       "                                    Review_Text_postag  Sentiment_Polarity  \\\n",
       "0     [(mixed, JJ), (feelings, NNS), (experience, NN)]            0.000000   \n",
       "1    [(staff, NN), (caring, VBG), (attentive, JJ), ...            0.400000   \n",
       "2     [(mixed, JJ), (feelings, NNS), (experience, NN)]            0.000000   \n",
       "3     [(mixed, JJ), (feelings, NNS), (experience, NN)]            0.000000   \n",
       "4    [(healthcare, NN), (provider, NN), (excellent,...            0.900000   \n",
       "..                                                 ...                 ...   \n",
       "995  [(experience, NN), (terrible, NN), (would, MD)...           -1.000000   \n",
       "996  [(service, NN), (disappointing, VBG), (wont, N...           -0.300000   \n",
       "997  [(service, NN), (okay, MD), (nothing, NN), (ex...            0.583333   \n",
       "998   [(mixed, JJ), (feelings, NNS), (experience, NN)]            0.000000   \n",
       "999  [(staff, NN), (caring, VBG), (attentive, JJ), ...            0.400000   \n",
       "\n",
       "     Sentiment_Category  \n",
       "0                     0  \n",
       "1                     1  \n",
       "2                     0  \n",
       "3                     0  \n",
       "4                     1  \n",
       "..                  ...  \n",
       "995                  -1  \n",
       "996                  -1  \n",
       "997                   1  \n",
       "998                   0  \n",
       "999                   1  \n",
       "\n",
       "[1000 rows x 7 columns]"
      ]
     },
     "execution_count": 21,
     "metadata": {},
     "output_type": "execute_result"
    }
   ],
   "source": [
    "df"
   ]
  },
  {
   "cell_type": "code",
   "execution_count": 22,
   "id": "91d0cdf6",
   "metadata": {},
   "outputs": [
    {
     "data": {
      "text/plain": [
       "Sentiment_Category\n",
       " 1    515\n",
       "-1    387\n",
       " 0     98\n",
       "Name: count, dtype: int64"
      ]
     },
     "execution_count": 22,
     "metadata": {},
     "output_type": "execute_result"
    }
   ],
   "source": [
    "df['Sentiment_Category'].value_counts()"
   ]
  },
  {
   "cell_type": "code",
   "execution_count": 23,
   "id": "66411896",
   "metadata": {},
   "outputs": [],
   "source": [
    "# In 'Sentiment' feature, the 'Neutral' count difference is very low. So we need to do oversampling to reduce the difference"
   ]
  },
  {
   "cell_type": "code",
   "execution_count": 24,
   "id": "2b6d32fe",
   "metadata": {
    "scrolled": true
   },
   "outputs": [],
   "source": [
    "from imblearn.over_sampling import SMOTE\n",
    "from sklearn.model_selection import train_test_split\n",
    "from sklearn.feature_extraction.text import TfidfVectorizer"
   ]
  },
  {
   "cell_type": "code",
   "execution_count": 25,
   "id": "aea1680a",
   "metadata": {},
   "outputs": [],
   "source": [
    "#'Review_Text_stem' is the preprocessed text and 'Sentiment_Category' is the target label\n",
    "\n",
    "X = df['Review_Text_lemma'].apply(' '.join)  # Join lists into strings\n",
    "y = df['Sentiment_Category']"
   ]
  },
  {
   "cell_type": "code",
   "execution_count": 26,
   "id": "799d8c11",
   "metadata": {},
   "outputs": [],
   "source": [
    "# Split the data into training and testing sets\n",
    "\n",
    "X_train, X_test, y_train, y_test = train_test_split(X, y, test_size=0.2, stratify=y, random_state=100)"
   ]
  },
  {
   "cell_type": "code",
   "execution_count": 27,
   "id": "c1140a36",
   "metadata": {},
   "outputs": [],
   "source": [
    "# Text vectorization using TF-IDF\n",
    "\n",
    "tfidf_vectorizer = TfidfVectorizer(max_features=5000)  # Adjust max_features as needed\n",
    "X_train_tfidf = tfidf_vectorizer.fit_transform(X_train)\n",
    "X_test_tfidf = tfidf_vectorizer.transform(X_test)"
   ]
  },
  {
   "cell_type": "code",
   "execution_count": 28,
   "id": "616a6169",
   "metadata": {},
   "outputs": [],
   "source": [
    "# Apply SMOTE to the training data\n",
    "\n",
    "smote = SMOTE(random_state=42)\n",
    "X_resampled, y_resampled = smote.fit_resample(X_train_tfidf, y_train)"
   ]
  },
  {
   "cell_type": "code",
   "execution_count": 29,
   "id": "6d7c85c1",
   "metadata": {},
   "outputs": [
    {
     "data": {
      "text/plain": [
       "(1236, 2)"
      ]
     },
     "execution_count": 29,
     "metadata": {},
     "output_type": "execute_result"
    }
   ],
   "source": [
    "resampled_df = pd.DataFrame({'Review_Text_lemma': X_resampled, 'Sentiment_Category': y_resampled})\n",
    "resampled_df.shape"
   ]
  },
  {
   "cell_type": "code",
   "execution_count": 30,
   "id": "d5748632",
   "metadata": {},
   "outputs": [
    {
     "name": "stdout",
     "output_type": "stream",
     "text": [
      "Original training dataset size: 800\n",
      "Resampled dataset size: 1236\n"
     ]
    }
   ],
   "source": [
    "#Checking the size of the resampled dataset\n",
    "\n",
    "print(\"Original training dataset size:\", X_train.shape[0])\n",
    "print(\"Resampled dataset size:\", X_resampled.shape[0])"
   ]
  },
  {
   "cell_type": "code",
   "execution_count": 31,
   "id": "f8c3618a",
   "metadata": {},
   "outputs": [
    {
     "data": {
      "text/html": [
       "<div>\n",
       "<style scoped>\n",
       "    .dataframe tbody tr th:only-of-type {\n",
       "        vertical-align: middle;\n",
       "    }\n",
       "\n",
       "    .dataframe tbody tr th {\n",
       "        vertical-align: top;\n",
       "    }\n",
       "\n",
       "    .dataframe thead th {\n",
       "        text-align: right;\n",
       "    }\n",
       "</style>\n",
       "<table border=\"1\" class=\"dataframe\">\n",
       "  <thead>\n",
       "    <tr style=\"text-align: right;\">\n",
       "      <th></th>\n",
       "      <th>Review_Text_lemma</th>\n",
       "      <th>Sentiment_Category</th>\n",
       "    </tr>\n",
       "  </thead>\n",
       "  <tbody>\n",
       "    <tr>\n",
       "      <th>0</th>\n",
       "      <td>(0, 16)\\t0.447213595499958\\n  (0, 8)\\t0.4472...</td>\n",
       "      <td>1</td>\n",
       "    </tr>\n",
       "    <tr>\n",
       "      <th>1</th>\n",
       "      <td>(0, 25)\\t0.350267469332514\\n  (0, 27)\\t0.517...</td>\n",
       "      <td>-1</td>\n",
       "    </tr>\n",
       "    <tr>\n",
       "      <th>2</th>\n",
       "      <td>(0, 4)\\t0.47455587422568274\\n  (0, 7)\\t0.474...</td>\n",
       "      <td>-1</td>\n",
       "    </tr>\n",
       "    <tr>\n",
       "      <th>3</th>\n",
       "      <td>(0, 5)\\t0.4056031742963533\\n  (0, 14)\\t0.505...</td>\n",
       "      <td>-1</td>\n",
       "    </tr>\n",
       "    <tr>\n",
       "      <th>4</th>\n",
       "      <td>(0, 25)\\t0.350267469332514\\n  (0, 27)\\t0.517...</td>\n",
       "      <td>-1</td>\n",
       "    </tr>\n",
       "  </tbody>\n",
       "</table>\n",
       "</div>"
      ],
      "text/plain": [
       "                                   Review_Text_lemma  Sentiment_Category\n",
       "0    (0, 16)\\t0.447213595499958\\n  (0, 8)\\t0.4472...                   1\n",
       "1    (0, 25)\\t0.350267469332514\\n  (0, 27)\\t0.517...                  -1\n",
       "2    (0, 4)\\t0.47455587422568274\\n  (0, 7)\\t0.474...                  -1\n",
       "3    (0, 5)\\t0.4056031742963533\\n  (0, 14)\\t0.505...                  -1\n",
       "4    (0, 25)\\t0.350267469332514\\n  (0, 27)\\t0.517...                  -1"
      ]
     },
     "execution_count": 31,
     "metadata": {},
     "output_type": "execute_result"
    }
   ],
   "source": [
    "resampled_df.head()"
   ]
  },
  {
   "cell_type": "code",
   "execution_count": 32,
   "id": "853b1847",
   "metadata": {},
   "outputs": [
    {
     "data": {
      "text/plain": [
       "Sentiment_Category\n",
       " 1    412\n",
       "-1    412\n",
       " 0    412\n",
       "Name: count, dtype: int64"
      ]
     },
     "execution_count": 32,
     "metadata": {},
     "output_type": "execute_result"
    }
   ],
   "source": [
    "resampled_df['Sentiment_Category'].value_counts()"
   ]
  },
  {
   "cell_type": "markdown",
   "id": "476e6106",
   "metadata": {},
   "source": [
    "Model Building - Logistic Regression"
   ]
  },
  {
   "cell_type": "code",
   "execution_count": 33,
   "id": "32c26f7c",
   "metadata": {},
   "outputs": [
    {
     "data": {
      "text/html": [
       "<style>#sk-container-id-1 {color: black;}#sk-container-id-1 pre{padding: 0;}#sk-container-id-1 div.sk-toggleable {background-color: white;}#sk-container-id-1 label.sk-toggleable__label {cursor: pointer;display: block;width: 100%;margin-bottom: 0;padding: 0.3em;box-sizing: border-box;text-align: center;}#sk-container-id-1 label.sk-toggleable__label-arrow:before {content: \"▸\";float: left;margin-right: 0.25em;color: #696969;}#sk-container-id-1 label.sk-toggleable__label-arrow:hover:before {color: black;}#sk-container-id-1 div.sk-estimator:hover label.sk-toggleable__label-arrow:before {color: black;}#sk-container-id-1 div.sk-toggleable__content {max-height: 0;max-width: 0;overflow: hidden;text-align: left;background-color: #f0f8ff;}#sk-container-id-1 div.sk-toggleable__content pre {margin: 0.2em;color: black;border-radius: 0.25em;background-color: #f0f8ff;}#sk-container-id-1 input.sk-toggleable__control:checked~div.sk-toggleable__content {max-height: 200px;max-width: 100%;overflow: auto;}#sk-container-id-1 input.sk-toggleable__control:checked~label.sk-toggleable__label-arrow:before {content: \"▾\";}#sk-container-id-1 div.sk-estimator input.sk-toggleable__control:checked~label.sk-toggleable__label {background-color: #d4ebff;}#sk-container-id-1 div.sk-label input.sk-toggleable__control:checked~label.sk-toggleable__label {background-color: #d4ebff;}#sk-container-id-1 input.sk-hidden--visually {border: 0;clip: rect(1px 1px 1px 1px);clip: rect(1px, 1px, 1px, 1px);height: 1px;margin: -1px;overflow: hidden;padding: 0;position: absolute;width: 1px;}#sk-container-id-1 div.sk-estimator {font-family: monospace;background-color: #f0f8ff;border: 1px dotted black;border-radius: 0.25em;box-sizing: border-box;margin-bottom: 0.5em;}#sk-container-id-1 div.sk-estimator:hover {background-color: #d4ebff;}#sk-container-id-1 div.sk-parallel-item::after {content: \"\";width: 100%;border-bottom: 1px solid gray;flex-grow: 1;}#sk-container-id-1 div.sk-label:hover label.sk-toggleable__label {background-color: #d4ebff;}#sk-container-id-1 div.sk-serial::before {content: \"\";position: absolute;border-left: 1px solid gray;box-sizing: border-box;top: 0;bottom: 0;left: 50%;z-index: 0;}#sk-container-id-1 div.sk-serial {display: flex;flex-direction: column;align-items: center;background-color: white;padding-right: 0.2em;padding-left: 0.2em;position: relative;}#sk-container-id-1 div.sk-item {position: relative;z-index: 1;}#sk-container-id-1 div.sk-parallel {display: flex;align-items: stretch;justify-content: center;background-color: white;position: relative;}#sk-container-id-1 div.sk-item::before, #sk-container-id-1 div.sk-parallel-item::before {content: \"\";position: absolute;border-left: 1px solid gray;box-sizing: border-box;top: 0;bottom: 0;left: 50%;z-index: -1;}#sk-container-id-1 div.sk-parallel-item {display: flex;flex-direction: column;z-index: 1;position: relative;background-color: white;}#sk-container-id-1 div.sk-parallel-item:first-child::after {align-self: flex-end;width: 50%;}#sk-container-id-1 div.sk-parallel-item:last-child::after {align-self: flex-start;width: 50%;}#sk-container-id-1 div.sk-parallel-item:only-child::after {width: 0;}#sk-container-id-1 div.sk-dashed-wrapped {border: 1px dashed gray;margin: 0 0.4em 0.5em 0.4em;box-sizing: border-box;padding-bottom: 0.4em;background-color: white;}#sk-container-id-1 div.sk-label label {font-family: monospace;font-weight: bold;display: inline-block;line-height: 1.2em;}#sk-container-id-1 div.sk-label-container {text-align: center;}#sk-container-id-1 div.sk-container {/* jupyter's `normalize.less` sets `[hidden] { display: none; }` but bootstrap.min.css set `[hidden] { display: none !important; }` so we also need the `!important` here to be able to override the default hidden behavior on the sphinx rendered scikit-learn.org. See: https://github.com/scikit-learn/scikit-learn/issues/21755 */display: inline-block !important;position: relative;}#sk-container-id-1 div.sk-text-repr-fallback {display: none;}</style><div id=\"sk-container-id-1\" class=\"sk-top-container\"><div class=\"sk-text-repr-fallback\"><pre>LogisticRegression()</pre><b>In a Jupyter environment, please rerun this cell to show the HTML representation or trust the notebook. <br />On GitHub, the HTML representation is unable to render, please try loading this page with nbviewer.org.</b></div><div class=\"sk-container\" hidden><div class=\"sk-item\"><div class=\"sk-estimator sk-toggleable\"><input class=\"sk-toggleable__control sk-hidden--visually\" id=\"sk-estimator-id-1\" type=\"checkbox\" checked><label for=\"sk-estimator-id-1\" class=\"sk-toggleable__label sk-toggleable__label-arrow\">LogisticRegression</label><div class=\"sk-toggleable__content\"><pre>LogisticRegression()</pre></div></div></div></div></div>"
      ],
      "text/plain": [
       "LogisticRegression()"
      ]
     },
     "execution_count": 33,
     "metadata": {},
     "output_type": "execute_result"
    }
   ],
   "source": [
    "from sklearn.linear_model import LogisticRegression\n",
    "from sklearn.metrics import accuracy_score, classification_report, confusion_matrix\n",
    "\n",
    "#Logistic Regression model\n",
    "logreg_model = LogisticRegression()\n",
    "logreg_model.fit(X_resampled, y_resampled)"
   ]
  },
  {
   "cell_type": "code",
   "execution_count": 34,
   "id": "9af55a20",
   "metadata": {},
   "outputs": [
    {
     "name": "stdout",
     "output_type": "stream",
     "text": [
      "Training Accuracy: 1.00\n",
      "\n",
      "Classification Report on Training data:\n",
      "              precision    recall  f1-score   support\n",
      "\n",
      "          -1       1.00      1.00      1.00       412\n",
      "           0       1.00      1.00      1.00       412\n",
      "           1       1.00      1.00      1.00       412\n",
      "\n",
      "    accuracy                           1.00      1236\n",
      "   macro avg       1.00      1.00      1.00      1236\n",
      "weighted avg       1.00      1.00      1.00      1236\n",
      "\n",
      "\n",
      "Confusion Matrix on Training data:\n",
      "[[412   0   0]\n",
      " [  0 412   0]\n",
      " [  0   0 412]]\n"
     ]
    }
   ],
   "source": [
    "# Predictions on the training set\n",
    "\n",
    "y_train_pred = logreg_model.predict(X_resampled)\n",
    "\n",
    "# Evaluate the model on training data\n",
    "\n",
    "accuracy_train = accuracy_score(y_resampled, y_train_pred)\n",
    "print(f\"Training Accuracy: {accuracy_train:.2f}\")\n",
    "\n",
    "print(\"\\nClassification Report on Training data:\")\n",
    "print(classification_report(y_resampled, y_train_pred))\n",
    "\n",
    "print(\"\\nConfusion Matrix on Training data:\")\n",
    "print(confusion_matrix(y_resampled, y_train_pred))"
   ]
  },
  {
   "cell_type": "code",
   "execution_count": 35,
   "id": "ebc5b1d9",
   "metadata": {},
   "outputs": [
    {
     "name": "stdout",
     "output_type": "stream",
     "text": [
      "Testing Accuracy: 1.00\n",
      "\n",
      "Classification Report on Testing data:\n",
      "              precision    recall  f1-score   support\n",
      "\n",
      "          -1       1.00      1.00      1.00        77\n",
      "           0       1.00      1.00      1.00        20\n",
      "           1       1.00      1.00      1.00       103\n",
      "\n",
      "    accuracy                           1.00       200\n",
      "   macro avg       1.00      1.00      1.00       200\n",
      "weighted avg       1.00      1.00      1.00       200\n",
      "\n",
      "\n",
      "Confusion Matrix on Testing data:\n",
      "[[ 77   0   0]\n",
      " [  0  20   0]\n",
      " [  0   0 103]]\n"
     ]
    }
   ],
   "source": [
    "# Predictions on the test set\n",
    "\n",
    "y_pred = logreg_model.predict(X_test_tfidf)\n",
    "\n",
    "# Evaluate the model\n",
    "accuracy = accuracy_score(y_test, y_pred)\n",
    "print(f\"Testing Accuracy: {accuracy:.2f}\")\n",
    "\n",
    "print(\"\\nClassification Report on Testing data:\")\n",
    "print(classification_report(y_test, y_pred))\n",
    "\n",
    "print(\"\\nConfusion Matrix on Testing data:\")\n",
    "print(confusion_matrix(y_test, y_pred))"
   ]
  },
  {
   "cell_type": "markdown",
   "id": "a75fd10f",
   "metadata": {},
   "source": [
    "Multinomial Naives Bayes"
   ]
  },
  {
   "cell_type": "code",
   "execution_count": 36,
   "id": "31af2e27",
   "metadata": {},
   "outputs": [
    {
     "data": {
      "text/html": [
       "<style>#sk-container-id-2 {color: black;}#sk-container-id-2 pre{padding: 0;}#sk-container-id-2 div.sk-toggleable {background-color: white;}#sk-container-id-2 label.sk-toggleable__label {cursor: pointer;display: block;width: 100%;margin-bottom: 0;padding: 0.3em;box-sizing: border-box;text-align: center;}#sk-container-id-2 label.sk-toggleable__label-arrow:before {content: \"▸\";float: left;margin-right: 0.25em;color: #696969;}#sk-container-id-2 label.sk-toggleable__label-arrow:hover:before {color: black;}#sk-container-id-2 div.sk-estimator:hover label.sk-toggleable__label-arrow:before {color: black;}#sk-container-id-2 div.sk-toggleable__content {max-height: 0;max-width: 0;overflow: hidden;text-align: left;background-color: #f0f8ff;}#sk-container-id-2 div.sk-toggleable__content pre {margin: 0.2em;color: black;border-radius: 0.25em;background-color: #f0f8ff;}#sk-container-id-2 input.sk-toggleable__control:checked~div.sk-toggleable__content {max-height: 200px;max-width: 100%;overflow: auto;}#sk-container-id-2 input.sk-toggleable__control:checked~label.sk-toggleable__label-arrow:before {content: \"▾\";}#sk-container-id-2 div.sk-estimator input.sk-toggleable__control:checked~label.sk-toggleable__label {background-color: #d4ebff;}#sk-container-id-2 div.sk-label input.sk-toggleable__control:checked~label.sk-toggleable__label {background-color: #d4ebff;}#sk-container-id-2 input.sk-hidden--visually {border: 0;clip: rect(1px 1px 1px 1px);clip: rect(1px, 1px, 1px, 1px);height: 1px;margin: -1px;overflow: hidden;padding: 0;position: absolute;width: 1px;}#sk-container-id-2 div.sk-estimator {font-family: monospace;background-color: #f0f8ff;border: 1px dotted black;border-radius: 0.25em;box-sizing: border-box;margin-bottom: 0.5em;}#sk-container-id-2 div.sk-estimator:hover {background-color: #d4ebff;}#sk-container-id-2 div.sk-parallel-item::after {content: \"\";width: 100%;border-bottom: 1px solid gray;flex-grow: 1;}#sk-container-id-2 div.sk-label:hover label.sk-toggleable__label {background-color: #d4ebff;}#sk-container-id-2 div.sk-serial::before {content: \"\";position: absolute;border-left: 1px solid gray;box-sizing: border-box;top: 0;bottom: 0;left: 50%;z-index: 0;}#sk-container-id-2 div.sk-serial {display: flex;flex-direction: column;align-items: center;background-color: white;padding-right: 0.2em;padding-left: 0.2em;position: relative;}#sk-container-id-2 div.sk-item {position: relative;z-index: 1;}#sk-container-id-2 div.sk-parallel {display: flex;align-items: stretch;justify-content: center;background-color: white;position: relative;}#sk-container-id-2 div.sk-item::before, #sk-container-id-2 div.sk-parallel-item::before {content: \"\";position: absolute;border-left: 1px solid gray;box-sizing: border-box;top: 0;bottom: 0;left: 50%;z-index: -1;}#sk-container-id-2 div.sk-parallel-item {display: flex;flex-direction: column;z-index: 1;position: relative;background-color: white;}#sk-container-id-2 div.sk-parallel-item:first-child::after {align-self: flex-end;width: 50%;}#sk-container-id-2 div.sk-parallel-item:last-child::after {align-self: flex-start;width: 50%;}#sk-container-id-2 div.sk-parallel-item:only-child::after {width: 0;}#sk-container-id-2 div.sk-dashed-wrapped {border: 1px dashed gray;margin: 0 0.4em 0.5em 0.4em;box-sizing: border-box;padding-bottom: 0.4em;background-color: white;}#sk-container-id-2 div.sk-label label {font-family: monospace;font-weight: bold;display: inline-block;line-height: 1.2em;}#sk-container-id-2 div.sk-label-container {text-align: center;}#sk-container-id-2 div.sk-container {/* jupyter's `normalize.less` sets `[hidden] { display: none; }` but bootstrap.min.css set `[hidden] { display: none !important; }` so we also need the `!important` here to be able to override the default hidden behavior on the sphinx rendered scikit-learn.org. See: https://github.com/scikit-learn/scikit-learn/issues/21755 */display: inline-block !important;position: relative;}#sk-container-id-2 div.sk-text-repr-fallback {display: none;}</style><div id=\"sk-container-id-2\" class=\"sk-top-container\"><div class=\"sk-text-repr-fallback\"><pre>MultinomialNB()</pre><b>In a Jupyter environment, please rerun this cell to show the HTML representation or trust the notebook. <br />On GitHub, the HTML representation is unable to render, please try loading this page with nbviewer.org.</b></div><div class=\"sk-container\" hidden><div class=\"sk-item\"><div class=\"sk-estimator sk-toggleable\"><input class=\"sk-toggleable__control sk-hidden--visually\" id=\"sk-estimator-id-2\" type=\"checkbox\" checked><label for=\"sk-estimator-id-2\" class=\"sk-toggleable__label sk-toggleable__label-arrow\">MultinomialNB</label><div class=\"sk-toggleable__content\"><pre>MultinomialNB()</pre></div></div></div></div></div>"
      ],
      "text/plain": [
       "MultinomialNB()"
      ]
     },
     "execution_count": 36,
     "metadata": {},
     "output_type": "execute_result"
    }
   ],
   "source": [
    "from sklearn.naive_bayes import MultinomialNB\n",
    "\n",
    "#Multinomial Naive Bayes model\n",
    "naive_bayes_model = MultinomialNB()\n",
    "naive_bayes_model.fit(X_resampled, y_resampled)"
   ]
  },
  {
   "cell_type": "code",
   "execution_count": 37,
   "id": "9a9bd5b0",
   "metadata": {},
   "outputs": [
    {
     "name": "stdout",
     "output_type": "stream",
     "text": [
      "Training Accuracy: 1.00\n",
      "\n",
      "Classification Report on Training Data:\n",
      "              precision    recall  f1-score   support\n",
      "\n",
      "          -1       1.00      1.00      1.00       412\n",
      "           0       1.00      1.00      1.00       412\n",
      "           1       1.00      1.00      1.00       412\n",
      "\n",
      "    accuracy                           1.00      1236\n",
      "   macro avg       1.00      1.00      1.00      1236\n",
      "weighted avg       1.00      1.00      1.00      1236\n",
      "\n",
      "\n",
      "Confusion Matrix on Training Data:\n",
      "[[412   0   0]\n",
      " [  0 412   0]\n",
      " [  0   0 412]]\n"
     ]
    }
   ],
   "source": [
    "# Predictions on the training set\n",
    "y_train_pred = naive_bayes_model.predict(X_resampled)\n",
    "\n",
    "# Evaluate the model on training data\n",
    "accuracy_train = accuracy_score(y_resampled, y_train_pred)\n",
    "print(f\"Training Accuracy: {accuracy_train:.2f}\")\n",
    "\n",
    "print(\"\\nClassification Report on Training Data:\")\n",
    "print(classification_report(y_resampled, y_train_pred))\n",
    "\n",
    "print(\"\\nConfusion Matrix on Training Data:\")\n",
    "print(confusion_matrix(y_resampled, y_train_pred))"
   ]
  },
  {
   "cell_type": "code",
   "execution_count": 38,
   "id": "369d9070",
   "metadata": {},
   "outputs": [
    {
     "name": "stdout",
     "output_type": "stream",
     "text": [
      "Testing Accuracy: 1.00\n",
      "\n",
      "Classification Report on Testing Data:\n",
      "              precision    recall  f1-score   support\n",
      "\n",
      "          -1       1.00      1.00      1.00        77\n",
      "           0       1.00      1.00      1.00        20\n",
      "           1       1.00      1.00      1.00       103\n",
      "\n",
      "    accuracy                           1.00       200\n",
      "   macro avg       1.00      1.00      1.00       200\n",
      "weighted avg       1.00      1.00      1.00       200\n",
      "\n",
      "\n",
      "Confusion Matrix on Testing Data:\n",
      "[[ 77   0   0]\n",
      " [  0  20   0]\n",
      " [  0   0 103]]\n"
     ]
    }
   ],
   "source": [
    "# Predictions on the test set\n",
    "y_pred = naive_bayes_model.predict(X_test_tfidf)\n",
    "\n",
    "# Evaluate the model\n",
    "accuracy = accuracy_score(y_test, y_pred)\n",
    "print(f\"Testing Accuracy: {accuracy:.2f}\")\n",
    "\n",
    "print(\"\\nClassification Report on Testing Data:\")\n",
    "print(classification_report(y_test, y_pred))\n",
    "\n",
    "print(\"\\nConfusion Matrix on Testing Data:\")\n",
    "print(confusion_matrix(y_test, y_pred))"
   ]
  },
  {
   "cell_type": "markdown",
   "id": "c372ab8d",
   "metadata": {},
   "source": [
    "Support Vector Machine"
   ]
  },
  {
   "cell_type": "code",
   "execution_count": 39,
   "id": "fe761f81",
   "metadata": {},
   "outputs": [
    {
     "data": {
      "text/html": [
       "<style>#sk-container-id-3 {color: black;}#sk-container-id-3 pre{padding: 0;}#sk-container-id-3 div.sk-toggleable {background-color: white;}#sk-container-id-3 label.sk-toggleable__label {cursor: pointer;display: block;width: 100%;margin-bottom: 0;padding: 0.3em;box-sizing: border-box;text-align: center;}#sk-container-id-3 label.sk-toggleable__label-arrow:before {content: \"▸\";float: left;margin-right: 0.25em;color: #696969;}#sk-container-id-3 label.sk-toggleable__label-arrow:hover:before {color: black;}#sk-container-id-3 div.sk-estimator:hover label.sk-toggleable__label-arrow:before {color: black;}#sk-container-id-3 div.sk-toggleable__content {max-height: 0;max-width: 0;overflow: hidden;text-align: left;background-color: #f0f8ff;}#sk-container-id-3 div.sk-toggleable__content pre {margin: 0.2em;color: black;border-radius: 0.25em;background-color: #f0f8ff;}#sk-container-id-3 input.sk-toggleable__control:checked~div.sk-toggleable__content {max-height: 200px;max-width: 100%;overflow: auto;}#sk-container-id-3 input.sk-toggleable__control:checked~label.sk-toggleable__label-arrow:before {content: \"▾\";}#sk-container-id-3 div.sk-estimator input.sk-toggleable__control:checked~label.sk-toggleable__label {background-color: #d4ebff;}#sk-container-id-3 div.sk-label input.sk-toggleable__control:checked~label.sk-toggleable__label {background-color: #d4ebff;}#sk-container-id-3 input.sk-hidden--visually {border: 0;clip: rect(1px 1px 1px 1px);clip: rect(1px, 1px, 1px, 1px);height: 1px;margin: -1px;overflow: hidden;padding: 0;position: absolute;width: 1px;}#sk-container-id-3 div.sk-estimator {font-family: monospace;background-color: #f0f8ff;border: 1px dotted black;border-radius: 0.25em;box-sizing: border-box;margin-bottom: 0.5em;}#sk-container-id-3 div.sk-estimator:hover {background-color: #d4ebff;}#sk-container-id-3 div.sk-parallel-item::after {content: \"\";width: 100%;border-bottom: 1px solid gray;flex-grow: 1;}#sk-container-id-3 div.sk-label:hover label.sk-toggleable__label {background-color: #d4ebff;}#sk-container-id-3 div.sk-serial::before {content: \"\";position: absolute;border-left: 1px solid gray;box-sizing: border-box;top: 0;bottom: 0;left: 50%;z-index: 0;}#sk-container-id-3 div.sk-serial {display: flex;flex-direction: column;align-items: center;background-color: white;padding-right: 0.2em;padding-left: 0.2em;position: relative;}#sk-container-id-3 div.sk-item {position: relative;z-index: 1;}#sk-container-id-3 div.sk-parallel {display: flex;align-items: stretch;justify-content: center;background-color: white;position: relative;}#sk-container-id-3 div.sk-item::before, #sk-container-id-3 div.sk-parallel-item::before {content: \"\";position: absolute;border-left: 1px solid gray;box-sizing: border-box;top: 0;bottom: 0;left: 50%;z-index: -1;}#sk-container-id-3 div.sk-parallel-item {display: flex;flex-direction: column;z-index: 1;position: relative;background-color: white;}#sk-container-id-3 div.sk-parallel-item:first-child::after {align-self: flex-end;width: 50%;}#sk-container-id-3 div.sk-parallel-item:last-child::after {align-self: flex-start;width: 50%;}#sk-container-id-3 div.sk-parallel-item:only-child::after {width: 0;}#sk-container-id-3 div.sk-dashed-wrapped {border: 1px dashed gray;margin: 0 0.4em 0.5em 0.4em;box-sizing: border-box;padding-bottom: 0.4em;background-color: white;}#sk-container-id-3 div.sk-label label {font-family: monospace;font-weight: bold;display: inline-block;line-height: 1.2em;}#sk-container-id-3 div.sk-label-container {text-align: center;}#sk-container-id-3 div.sk-container {/* jupyter's `normalize.less` sets `[hidden] { display: none; }` but bootstrap.min.css set `[hidden] { display: none !important; }` so we also need the `!important` here to be able to override the default hidden behavior on the sphinx rendered scikit-learn.org. See: https://github.com/scikit-learn/scikit-learn/issues/21755 */display: inline-block !important;position: relative;}#sk-container-id-3 div.sk-text-repr-fallback {display: none;}</style><div id=\"sk-container-id-3\" class=\"sk-top-container\"><div class=\"sk-text-repr-fallback\"><pre>SVC()</pre><b>In a Jupyter environment, please rerun this cell to show the HTML representation or trust the notebook. <br />On GitHub, the HTML representation is unable to render, please try loading this page with nbviewer.org.</b></div><div class=\"sk-container\" hidden><div class=\"sk-item\"><div class=\"sk-estimator sk-toggleable\"><input class=\"sk-toggleable__control sk-hidden--visually\" id=\"sk-estimator-id-3\" type=\"checkbox\" checked><label for=\"sk-estimator-id-3\" class=\"sk-toggleable__label sk-toggleable__label-arrow\">SVC</label><div class=\"sk-toggleable__content\"><pre>SVC()</pre></div></div></div></div></div>"
      ],
      "text/plain": [
       "SVC()"
      ]
     },
     "execution_count": 39,
     "metadata": {},
     "output_type": "execute_result"
    }
   ],
   "source": [
    "from sklearn.svm import SVC\n",
    "\n",
    "#Support Vector Machine model\n",
    "svm_model = SVC()\n",
    "svm_model.fit(X_resampled, y_resampled)"
   ]
  },
  {
   "cell_type": "code",
   "execution_count": 40,
   "id": "f57cd20b",
   "metadata": {},
   "outputs": [
    {
     "name": "stdout",
     "output_type": "stream",
     "text": [
      "Training Accuracy: 1.00\n",
      "\n",
      "Classification Report:\n",
      "              precision    recall  f1-score   support\n",
      "\n",
      "          -1       1.00      1.00      1.00       412\n",
      "           0       1.00      1.00      1.00       412\n",
      "           1       1.00      1.00      1.00       412\n",
      "\n",
      "    accuracy                           1.00      1236\n",
      "   macro avg       1.00      1.00      1.00      1236\n",
      "weighted avg       1.00      1.00      1.00      1236\n",
      "\n",
      "\n",
      "Confusion Matrix:\n",
      "[[412   0   0]\n",
      " [  0 412   0]\n",
      " [  0   0 412]]\n"
     ]
    }
   ],
   "source": [
    "# Predictions on the training set\n",
    "y_train_pred = svm_model.predict(X_resampled)\n",
    "\n",
    "# Evaluate the model on training data\n",
    "accuracy_train = accuracy_score(y_resampled, y_train_pred)\n",
    "print(f\"Training Accuracy: {accuracy_train:.2f}\")\n",
    "\n",
    "print(\"\\nClassification Report:\")\n",
    "print(classification_report(y_resampled, y_train_pred))\n",
    "\n",
    "print(\"\\nConfusion Matrix:\")\n",
    "print(confusion_matrix(y_resampled, y_train_pred))"
   ]
  },
  {
   "cell_type": "code",
   "execution_count": 41,
   "id": "be4f1a03",
   "metadata": {},
   "outputs": [
    {
     "name": "stdout",
     "output_type": "stream",
     "text": [
      "Testing Accuracy: 1.00\n",
      "\n",
      "Classification Report:\n",
      "              precision    recall  f1-score   support\n",
      "\n",
      "          -1       1.00      1.00      1.00        77\n",
      "           0       1.00      1.00      1.00        20\n",
      "           1       1.00      1.00      1.00       103\n",
      "\n",
      "    accuracy                           1.00       200\n",
      "   macro avg       1.00      1.00      1.00       200\n",
      "weighted avg       1.00      1.00      1.00       200\n",
      "\n",
      "\n",
      "Confusion Matrix:\n",
      "[[ 77   0   0]\n",
      " [  0  20   0]\n",
      " [  0   0 103]]\n"
     ]
    }
   ],
   "source": [
    "# Predictions on the test set\n",
    "y_pred = svm_model.predict(X_test_tfidf)\n",
    "\n",
    "# Evaluate the model\n",
    "accuracy = accuracy_score(y_test, y_pred)\n",
    "print(f\"Testing Accuracy: {accuracy:.2f}\")\n",
    "\n",
    "print(\"\\nClassification Report:\")\n",
    "print(classification_report(y_test, y_pred))\n",
    "\n",
    "print(\"\\nConfusion Matrix:\")\n",
    "print(confusion_matrix(y_test, y_pred))"
   ]
  },
  {
   "cell_type": "markdown",
   "id": "efcbb8ac",
   "metadata": {},
   "source": [
    "All models achieved perfect accuracy on the training and testing data, with precision, recall, and F1-score all equal to 1.0 for each class. The confusion matrix also indicates that the model made correct predictions for all instances in the training set. While achieving high accuracy on the training data is a positive sign, but it doesn't guarantee the same level of performance on new, unseen data, leading to Overfitting.\n",
    "\n",
    "Overfitting is when a model performs exceptionally well on the training set but fails to generalize to new instances So performing the following steps to handle overfitting: Cross-validation on logistic regression, MultinomialNB and SVM Models"
   ]
  },
  {
   "cell_type": "markdown",
   "id": "60d3ff2c",
   "metadata": {},
   "source": [
    "Representation of Results"
   ]
  },
  {
   "cell_type": "code",
   "execution_count": 42,
   "id": "24bb5f24",
   "metadata": {},
   "outputs": [
    {
     "name": "stdout",
     "output_type": "stream",
     "text": [
      "                 Model  Accuracy  Precision  Recall  F1 Score\n",
      "0  Logistic_Regression       1.0        1.0     1.0       1.0\n",
      "1       Multinomial_NB       1.0        1.0     1.0       1.0\n",
      "2                  SVM       1.0        1.0     1.0       1.0\n"
     ]
    }
   ],
   "source": [
    "# multiple models\n",
    "results_data = {\n",
    "    'Model': ['Logistic_Regression', 'Multinomial_NB', 'SVM'],\n",
    "    'Accuracy': [1.00, 1.00, 1.00],\n",
    "    'Precision': [1.00, 1.00, 1.00],\n",
    "    'Recall': [1.00, 1.00, 1.00],\n",
    "    'F1 Score': [1.00, 1.00, 1.00]\n",
    "}\n",
    "\n",
    "df_results = pd.DataFrame(results_data)\n",
    "\n",
    "# Display the DataFrame\n",
    "print(df_results)"
   ]
  },
  {
   "cell_type": "code",
   "execution_count": 43,
   "id": "92dde509",
   "metadata": {},
   "outputs": [
    {
     "name": "stdout",
     "output_type": "stream",
     "text": [
      "Cross-Validation Scores on Training Data: [1. 1. 1. 1. 1.]\n",
      "Mean Accuracy on Training Data: 1.0\n",
      "\n",
      "Cross-Validation Scores on Testing Data: [1. 1. 1. 1. 1.]\n",
      "Mean Accuracy on Testing Data: 1.0\n"
     ]
    }
   ],
   "source": [
    "#Cross-Validation on Logistic Regression Model\n",
    "\n",
    "from sklearn.model_selection import cross_val_score\n",
    "\n",
    "# X_resampled, X_test_tfidf, y_resampled, y_test should be your training and testing data\n",
    "\n",
    "# Create a logistic regression model\n",
    "logreg_model = LogisticRegression()\n",
    "\n",
    "# Perform 5-fold cross-validation on training data\n",
    "cv_scores_train = cross_val_score(logreg_model, X_resampled, y_resampled, cv=5, scoring='accuracy')\n",
    "\n",
    "# Perform 5-fold cross-validation on testing data\n",
    "cv_scores_test = cross_val_score(logreg_model, X_test_tfidf, y_test, cv=5, scoring='accuracy')\n",
    "\n",
    "# Display cross-validation scores\n",
    "print(\"Cross-Validation Scores on Training Data:\", cv_scores_train)\n",
    "print(\"Mean Accuracy on Training Data:\", cv_scores_train.mean())\n",
    "\n",
    "print(\"\\nCross-Validation Scores on Testing Data:\", cv_scores_test)\n",
    "print(\"Mean Accuracy on Testing Data:\", cv_scores_test.mean())"
   ]
  },
  {
   "cell_type": "code",
   "execution_count": 44,
   "id": "9cd3ff51",
   "metadata": {},
   "outputs": [
    {
     "name": "stdout",
     "output_type": "stream",
     "text": [
      "Cross-Validation Scores on Training Data: [1. 1. 1. 1. 1.]\n",
      "Mean Accuracy on Training Data: 1.0\n",
      "\n",
      "Cross-Validation Scores on Testing Data: [1. 1. 1. 1. 1.]\n",
      "Mean Accuracy on Testing Data: 1.0\n"
     ]
    }
   ],
   "source": [
    "#Cross-Validation on MultinomialNB Model\n",
    "\n",
    "#Multinomial Naive Bayes model\n",
    "naive_bayes_model = MultinomialNB()\n",
    "\n",
    "# Perform 5-fold cross-validation on training data\n",
    "cv_scores_train = cross_val_score(naive_bayes_model, X_resampled, y_resampled, cv=5, scoring='accuracy')\n",
    "\n",
    "# Perform 5-fold cross-validation on testing data\n",
    "cv_scores_test = cross_val_score(naive_bayes_model, X_test_tfidf, y_test, cv=5, scoring='accuracy')\n",
    "\n",
    "# Display cross-validation scores\n",
    "print(\"Cross-Validation Scores on Training Data:\", cv_scores_train)\n",
    "print(\"Mean Accuracy on Training Data:\", cv_scores_train.mean())\n",
    "\n",
    "print(\"\\nCross-Validation Scores on Testing Data:\", cv_scores_test)\n",
    "print(\"Mean Accuracy on Testing Data:\", cv_scores_test.mean())"
   ]
  },
  {
   "cell_type": "code",
   "execution_count": 45,
   "id": "b76224e0",
   "metadata": {},
   "outputs": [
    {
     "name": "stdout",
     "output_type": "stream",
     "text": [
      "Cross-Validation Scores on Training Data: [1. 1. 1. 1. 1.]\n",
      "Mean Accuracy on Training Data: 1.0\n",
      "\n",
      "Cross-Validation Scores on Testing Data: [1. 1. 1. 1. 1.]\n",
      "Mean Accuracy on Testing Data: 1.0\n"
     ]
    }
   ],
   "source": [
    "#Cross-Validation on SVM Model\n",
    "\n",
    "# Support Vector Machine model\n",
    "svm_model = SVC()\n",
    "\n",
    "# Perform 5-fold cross-validation on training data\n",
    "cv_scores_train = cross_val_score(svm_model, X_resampled, y_resampled, cv=5, scoring='accuracy')\n",
    "\n",
    "# Perform 5-fold cross-validation on testing data\n",
    "cv_scores_test = cross_val_score(svm_model, X_test_tfidf, y_test, cv=5, scoring='accuracy')\n",
    "\n",
    "# Display cross-validation scores\n",
    "print(\"Cross-Validation Scores on Training Data:\", cv_scores_train)\n",
    "print(\"Mean Accuracy on Training Data:\", cv_scores_train.mean())\n",
    "\n",
    "print(\"\\nCross-Validation Scores on Testing Data:\", cv_scores_test)\n",
    "print(\"Mean Accuracy on Testing Data:\", cv_scores_test.mean())"
   ]
  },
  {
   "cell_type": "markdown",
   "id": "17c4f42d",
   "metadata": {},
   "source": [
    "Visualization"
   ]
  },
  {
   "cell_type": "code",
   "execution_count": 47,
   "id": "701cae5e",
   "metadata": {},
   "outputs": [
    {
     "data": {
      "image/png": "[encoded data removed]",
      "text/plain": [
       "<Figure size 800x600 with 2 Axes>"
      ]
     },
     "metadata": {},
     "output_type": "display_data"
    }
   ],
   "source": [
    "import seaborn as sns\n",
    "import matplotlib.pyplot as plt\n",
    "\n",
    "# Confusion Matrix\n",
    "cm_lg = confusion_matrix(y_test, y_pred)\n",
    "\n",
    "# Plotting the Confusion Matrix Heatmap\n",
    "plt.figure(figsize=(8, 6))\n",
    "sns.heatmap(cm_lg, annot=True, fmt=\"d\", cmap=\"Blues\", xticklabels=[-1,0,1], yticklabels=[-1,0,1])\n",
    "plt.title(\"Confusion Matrix\")\n",
    "plt.xlabel(\"Predicted Label\")\n",
    "plt.ylabel(\"True Label\")\n",
    "plt.show()"
   ]
  },
  {
   "cell_type": "code",
   "execution_count": 48,
   "id": "c29235c9",
   "metadata": {},
   "outputs": [
    {
     "data": {
      "image/png": "[encoded data removed]",
      "text/plain": [
       "<Figure size 800x600 with 1 Axes>"
      ]
     },
     "metadata": {},
     "output_type": "display_data"
    }
   ],
   "source": [
    "# y contains sentiment labels\n",
    "sentiment_distribution = y.value_counts()\n",
    "\n",
    "# Plot the distribution before SMOTE\n",
    "plt.figure(figsize=(8, 6))\n",
    "ax = sentiment_distribution.plot(kind='bar', color='darkblue')\n",
    "\n",
    "# Add frequency values on top of each bar\n",
    "for i, v in enumerate(sentiment_distribution):\n",
    "    ax.text(i, v + 0.1, str(v), ha='center', va='bottom')\n",
    "\n",
    "plt.title('Sentiment Distribution')\n",
    "plt.xlabel('Sentiment Category')\n",
    "plt.ylabel('Frequency')\n",
    "plt.xticks(rotation=0)  # Rotate x-axis labels if needed\n",
    "plt.show()"
   ]
  },
  {
   "cell_type": "code",
   "execution_count": 49,
   "id": "cc2b60b9",
   "metadata": {},
   "outputs": [
    {
     "data": {
      "image/png": "[encoded data removed]",
      "text/plain": [
       "<Figure size 1000x600 with 1 Axes>"
      ]
     },
     "metadata": {},
     "output_type": "display_data"
    }
   ],
   "source": [
    "from wordcloud import WordCloud\n",
    "import matplotlib.pyplot as plt\n",
    "\n",
    "# 'Review_Text_lemma' is the column containing lists of words\n",
    "# Convert lists to strings\n",
    "df['Review_Text_lemma_str'] = df['Review_Text_lemma'].apply(lambda x: ' '.join(map(str, x)))\n",
    "\n",
    "# Concatenate all the strings into one\n",
    "all_words = \" \".join(df['Review_Text_lemma_str'])\n",
    "\n",
    "# Generate the word cloud\n",
    "wordcloud = WordCloud(width=800, height=500, random_state=42, max_font_size=50, background_color='black').generate(all_words)\n",
    "\n",
    "# Plotting the word cloud\n",
    "plt.figure(figsize=(10, 6))\n",
    "plt.imshow(wordcloud, interpolation='bilinear')\n",
    "plt.axis('off')\n",
    "plt.title('Word Cloud based on Review Text')\n",
    "plt.show()"
   ]
  },
  {
   "cell_type": "code",
   "execution_count": 58,
   "id": "5cad2416",
   "metadata": {},
   "outputs": [
    {
     "data": {
      "text/html": [
       "<div>\n",
       "<style scoped>\n",
       "    .dataframe tbody tr th:only-of-type {\n",
       "        vertical-align: middle;\n",
       "    }\n",
       "\n",
       "    .dataframe tbody tr th {\n",
       "        vertical-align: top;\n",
       "    }\n",
       "\n",
       "    .dataframe thead th {\n",
       "        text-align: right;\n",
       "    }\n",
       "</style>\n",
       "<table border=\"1\" class=\"dataframe\">\n",
       "  <thead>\n",
       "    <tr style=\"text-align: right;\">\n",
       "      <th></th>\n",
       "      <th>Review_Text</th>\n",
       "      <th>Rating</th>\n",
       "      <th>Review_Text_lemma</th>\n",
       "      <th>Review_Text_stem</th>\n",
       "      <th>Review_Text_postag</th>\n",
       "      <th>Sentiment_Polarity</th>\n",
       "      <th>Sentiment_Category</th>\n",
       "      <th>Review_Text_lemma_str</th>\n",
       "    </tr>\n",
       "  </thead>\n",
       "  <tbody>\n",
       "    <tr>\n",
       "      <th>0</th>\n",
       "      <td>[mixed, feelings, experience]</td>\n",
       "      <td>4</td>\n",
       "      <td>[mixed, feeling, experience]</td>\n",
       "      <td>[mix, feel, experi]</td>\n",
       "      <td>[(mixed, JJ), (feelings, NNS), (experience, NN)]</td>\n",
       "      <td>0.0</td>\n",
       "      <td>0</td>\n",
       "      <td>mixed feeling experience</td>\n",
       "    </tr>\n",
       "    <tr>\n",
       "      <th>1</th>\n",
       "      <td>[staff, caring, attentive, couldnt, happier]</td>\n",
       "      <td>5</td>\n",
       "      <td>[staff, caring, attentive, couldnt, happier]</td>\n",
       "      <td>[staff, care, attent, couldnt, happier]</td>\n",
       "      <td>[(staff, NN), (caring, VBG), (attentive, JJ), ...</td>\n",
       "      <td>0.4</td>\n",
       "      <td>1</td>\n",
       "      <td>staff caring attentive couldnt happier</td>\n",
       "    </tr>\n",
       "    <tr>\n",
       "      <th>2</th>\n",
       "      <td>[mixed, feelings, experience]</td>\n",
       "      <td>5</td>\n",
       "      <td>[mixed, feeling, experience]</td>\n",
       "      <td>[mix, feel, experi]</td>\n",
       "      <td>[(mixed, JJ), (feelings, NNS), (experience, NN)]</td>\n",
       "      <td>0.0</td>\n",
       "      <td>0</td>\n",
       "      <td>mixed feeling experience</td>\n",
       "    </tr>\n",
       "    <tr>\n",
       "      <th>3</th>\n",
       "      <td>[mixed, feelings, experience]</td>\n",
       "      <td>5</td>\n",
       "      <td>[mixed, feeling, experience]</td>\n",
       "      <td>[mix, feel, experi]</td>\n",
       "      <td>[(mixed, JJ), (feelings, NNS), (experience, NN)]</td>\n",
       "      <td>0.0</td>\n",
       "      <td>0</td>\n",
       "      <td>mixed feeling experience</td>\n",
       "    </tr>\n",
       "    <tr>\n",
       "      <th>4</th>\n",
       "      <td>[healthcare, provider, excellent, great, exper...</td>\n",
       "      <td>3</td>\n",
       "      <td>[healthcare, provider, excellent, great, exper...</td>\n",
       "      <td>[healthcar, provid, excel, great, experi]</td>\n",
       "      <td>[(healthcare, NN), (provider, NN), (excellent,...</td>\n",
       "      <td>0.9</td>\n",
       "      <td>1</td>\n",
       "      <td>healthcare provider excellent great experience</td>\n",
       "    </tr>\n",
       "  </tbody>\n",
       "</table>\n",
       "</div>"
      ],
      "text/plain": [
       "                                         Review_Text  Rating  \\\n",
       "0                      [mixed, feelings, experience]       4   \n",
       "1       [staff, caring, attentive, couldnt, happier]       5   \n",
       "2                      [mixed, feelings, experience]       5   \n",
       "3                      [mixed, feelings, experience]       5   \n",
       "4  [healthcare, provider, excellent, great, exper...       3   \n",
       "\n",
       "                                   Review_Text_lemma  \\\n",
       "0                       [mixed, feeling, experience]   \n",
       "1       [staff, caring, attentive, couldnt, happier]   \n",
       "2                       [mixed, feeling, experience]   \n",
       "3                       [mixed, feeling, experience]   \n",
       "4  [healthcare, provider, excellent, great, exper...   \n",
       "\n",
       "                            Review_Text_stem  \\\n",
       "0                        [mix, feel, experi]   \n",
       "1    [staff, care, attent, couldnt, happier]   \n",
       "2                        [mix, feel, experi]   \n",
       "3                        [mix, feel, experi]   \n",
       "4  [healthcar, provid, excel, great, experi]   \n",
       "\n",
       "                                  Review_Text_postag  Sentiment_Polarity  \\\n",
       "0   [(mixed, JJ), (feelings, NNS), (experience, NN)]                 0.0   \n",
       "1  [(staff, NN), (caring, VBG), (attentive, JJ), ...                 0.4   \n",
       "2   [(mixed, JJ), (feelings, NNS), (experience, NN)]                 0.0   \n",
       "3   [(mixed, JJ), (feelings, NNS), (experience, NN)]                 0.0   \n",
       "4  [(healthcare, NN), (provider, NN), (excellent,...                 0.9   \n",
       "\n",
       "   Sentiment_Category                           Review_Text_lemma_str  \n",
       "0                   0                        mixed feeling experience  \n",
       "1                   1          staff caring attentive couldnt happier  \n",
       "2                   0                        mixed feeling experience  \n",
       "3                   0                        mixed feeling experience  \n",
       "4                   1  healthcare provider excellent great experience  "
      ]
     },
     "execution_count": 58,
     "metadata": {},
     "output_type": "execute_result"
    }
   ],
   "source": [
    "df.head()"
   ]
  },
  {
   "cell_type": "code",
   "execution_count": 59,
   "id": "231314de",
   "metadata": {},
   "outputs": [
    {
     "name": "stdout",
     "output_type": "stream",
     "text": [
      "Top 10 Recurring Words:\n",
      "experience\n",
      "service\n",
      "provider\n",
      "healthcare\n",
      "bad\n",
      "im\n",
      "satisfied\n",
      "received\n",
      "highly\n",
      "recommended\n"
     ]
    }
   ],
   "source": [
    "from collections import Counter\n",
    "# Count word frequencies\n",
    "word_freq = Counter([word for tokens in df['Review_Text_lemma'] for word in tokens])\n",
    "\n",
    "# top 10 recurring words\n",
    "top_10_words = word_freq.most_common(10)\n",
    "\n",
    "# Print the results\n",
    "print(\"Top 10 Recurring Words:\")\n",
    "for word, count in top_10_words:\n",
    "    print(f\"{word}\")"
   ]
  },
  {
   "cell_type": "code",
   "execution_count": null,
   "id": "d8a90342",
   "metadata": {},
   "outputs": [],
   "source": []
  }
 ],
 "metadata": {
  "kernelspec": {
   "display_name": "Python 3 (ipykernel)",
   "language": "python",
   "name": "python3"
  },
  "language_info": {
   "codemirror_mode": {
    "name": "ipython",
    "version": 3
   },
   "file_extension": ".py",
   "mimetype": "text/x-python",
   "name": "python",
   "nbconvert_exporter": "python",
   "pygments_lexer": "ipython3",
   "version": "3.11.5"
  }
 },
 "nbformat": 4,
 "nbformat_minor": 5
}
